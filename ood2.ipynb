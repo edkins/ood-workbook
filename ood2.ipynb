{
 "cells": [
  {
   "cell_type": "code",
   "execution_count": 1,
   "id": "642e8924",
   "metadata": {},
   "outputs": [
    {
     "name": "stdout",
     "output_type": "stream",
     "text": [
      "Files already downloaded and verified\n",
      "Files already downloaded and verified\n"
     ]
    },
    {
     "data": {
      "image/png": "[encoded data removed]",
      "text/plain": [
       "<PIL.Image.Image image mode=RGB size=200x200>"
      ]
     },
     "metadata": {},
     "output_type": "display_data"
    },
    {
     "name": "stdout",
     "output_type": "stream",
     "text": [
      "{'airplane': 0, 'automobile': 0, 'bird': 0, 'cat': 1, 'deer': 0, 'dog': 0, 'frog': 0, 'horse': 0, 'ship': 0, 'truck': 0, 'ood': 0, 'flip': 0}\n"
     ]
    },
    {
     "data": {
      "image/png": "[encoded data removed]",
      "text/plain": [
       "<PIL.Image.Image image mode=RGB size=200x200>"
      ]
     },
     "metadata": {},
     "output_type": "display_data"
    },
    {
     "name": "stdout",
     "output_type": "stream",
     "text": [
      "{'airplane': 0, 'automobile': 0, 'bird': 0, 'cat': 1, 'deer': 0, 'dog': 0, 'frog': 0, 'horse': 0, 'ship': 0, 'truck': 0, 'ood': 0, 'flip': 0}\n"
     ]
    },
    {
     "data": {
      "image/png": "[encoded data removed]",
      "text/plain": [
       "<PIL.Image.Image image mode=RGB size=200x200>"
      ]
     },
     "metadata": {},
     "output_type": "display_data"
    },
    {
     "name": "stdout",
     "output_type": "stream",
     "text": [
      "{'airplane': 0, 'automobile': 0, 'bird': 0, 'cat': 1, 'deer': 0, 'dog': 0, 'frog': 0, 'horse': 0, 'ship': 0, 'truck': 0, 'ood': 0, 'flip': 0}\n"
     ]
    },
    {
     "data": {
      "image/png": "[encoded data removed]",
      "text/plain": [
       "<PIL.Image.Image image mode=RGB size=200x200>"
      ]
     },
     "metadata": {},
     "output_type": "display_data"
    },
    {
     "name": "stdout",
     "output_type": "stream",
     "text": [
      "{'airplane': 0, 'automobile': 0, 'bird': 0, 'cat': 1, 'deer': 0, 'dog': 0, 'frog': 0, 'horse': 0, 'ship': 0, 'truck': 0, 'ood': 0, 'flip': 0}\n"
     ]
    },
    {
     "data": {
      "image/png": "[encoded data removed]",
      "text/plain": [
       "<PIL.Image.Image image mode=RGB size=200x200>"
      ]
     },
     "metadata": {},
     "output_type": "display_data"
    },
    {
     "name": "stdout",
     "output_type": "stream",
     "text": [
      "{'airplane': 0, 'automobile': 0, 'bird': 0, 'cat': 0, 'deer': 0, 'dog': 1, 'frog': 0, 'horse': 0, 'ship': 0, 'truck': 0, 'ood': 0, 'flip': 0}\n"
     ]
    }
   ],
   "source": [
    "import torch\n",
    "import torchvision\n",
    "import numpy as np\n",
    "import PIL.Image\n",
    "import PIL.ImageShow\n",
    "\n",
    "cifar_data = {\n",
    "    'train': torchvision.datasets.CIFAR10('data', train=True, transform=None, download=True),\n",
    "    'test': torchvision.datasets.CIFAR10('data', train=False, transform=None, download=True),\n",
    "}\n",
    "\n",
    "def show_image(d):\n",
    "    img = PIL.Image.fromarray(d).resize((200,200), PIL.Image.Resampling.NEAREST)\n",
    "    PIL.ImageShow.IPythonViewer().show(img)\n",
    "\n",
    "class Data:\n",
    "    def __init__(self, kind, n, filters, ood=False, flip=False):\n",
    "        c = cifar_data[kind]\n",
    "        want_ts = set(c.class_to_idx[s] for s in filters)\n",
    "        indices = [i for i,t in enumerate(c.targets) if t in want_ts]\n",
    "        if len(indices) < n:\n",
    "            raise Exception(f\"Wanted {n} datapoints but only have {len(indices)}\")\n",
    "            \n",
    "        self.c = c\n",
    "        self.indices = indices[:n]\n",
    "        self.flip = flip\n",
    "        \n",
    "        self.labels = []\n",
    "        for i in indices:\n",
    "            orig_y = c.targets[i]\n",
    "            labels = {label:1 if j==orig_y else 0 for j,label in enumerate(c.classes)}\n",
    "            labels['ood'] = 1 if ood else 0\n",
    "            labels['flip'] = 1 if flip else 0\n",
    "            self.labels.append(labels)\n",
    "        \n",
    "    def __len__(self):\n",
    "        return len(self.indices)\n",
    "    \n",
    "    def _do_transform(self, data):\n",
    "        if self.flip:\n",
    "            data = np.flip(data, axis=0)\n",
    "        return data\n",
    "    \n",
    "    def __getitem__(self, idx):\n",
    "        if not isinstance(idx,int) or idx < 0 or idx >= len(self.indices):\n",
    "            raise Exception(f\"Bad index: {idx}\")\n",
    "        data = self.c.data[self.indices[idx]]\n",
    "        return self._do_transform(data), self.labels[idx]\n",
    "        \n",
    "class DataConcat:\n",
    "    def __init__(self, *data):\n",
    "        if len(data) == 0:\n",
    "            raise Exception(\"Cannot have empty data\")\n",
    "        self.data = data\n",
    "        \n",
    "    def __len__(self):\n",
    "        return sum(len(d) for d in self.data)\n",
    "    \n",
    "    def __getitem__(self, idx):\n",
    "        if not isinstance(idx,int) or idx < 0 or idx >= len(self):\n",
    "            raise Exception(f\"Bad index: {idx}\")\n",
    "        for d in self.data:\n",
    "            length = len(d)\n",
    "            if idx < length:\n",
    "                return d[idx]\n",
    "            idx -= length\n",
    "\n",
    "def show_examples():            \n",
    "    d = Data('train', n=10000, filters=['cat','dog'])\n",
    "    for i in range(5):\n",
    "        x,y = d[i]\n",
    "        show_image(x)\n",
    "        print(y)\n",
    "\n",
    "show_examples()"
   ]
  },
  {
   "cell_type": "code",
   "execution_count": 2,
   "id": "155f4feb",
   "metadata": {},
   "outputs": [
    {
     "name": "stdout",
     "output_type": "stream",
     "text": [
      "cuda:0\n",
      "Epoch 0    Loss 627.1509399414062\n",
      "    accuracy 0.6025\n",
      "Epoch 1    Loss 594.8735961914062\n",
      "    accuracy 0.637\n",
      "Epoch 2    Loss 582.4677124023438\n",
      "    accuracy 0.655\n",
      "Epoch 3    Loss 570.8466796875\n",
      "    accuracy 0.663\n",
      "Epoch 4    Loss 556.4698486328125\n",
      "    accuracy 0.6705\n",
      "Epoch 5    Loss 540.3063354492188\n",
      "    accuracy 0.69\n",
      "Epoch 6    Loss 525.644775390625\n",
      "    accuracy 0.6955\n",
      "Epoch 7    Loss 514.288818359375\n",
      "    accuracy 0.697\n",
      "Epoch 8    Loss 502.27947998046875\n",
      "    accuracy 0.7035\n",
      "Epoch 9    Loss 494.1283264160156\n",
      "    accuracy 0.713\n",
      "Time taken 13.838636019999967  seconds\n"
     ]
    }
   ],
   "source": [
    "import time\n",
    "\n",
    "class Model(torch.nn.Module):\n",
    "    def __init__(self, outputs:list[str]):\n",
    "        super().__init__()\n",
    "        self.outputs = outputs\n",
    "        self.layers = torch.nn.Sequential(\n",
    "            torch.nn.Conv2d(3, 32, 3),\n",
    "            torch.nn.ReLU(),\n",
    "            torch.nn.MaxPool2d(2, 2),\n",
    "            torch.nn.Conv2d(32, 64, 3),\n",
    "            torch.nn.ReLU(),\n",
    "            torch.nn.MaxPool2d(2, 2),\n",
    "            torch.nn.Conv2d(64, 32, 4),\n",
    "            torch.nn.ReLU(),\n",
    "            torch.nn.Flatten(),\n",
    "            torch.nn.Linear(288, len(outputs)),\n",
    "        )\n",
    "\n",
    "    def forward(self, x):\n",
    "        xp = torch.permute(x, (0, 3, 1, 2)).to(torch.float)\n",
    "        y = self.layers(xp)\n",
    "        return {output:y[:,i] for i,output in enumerate(self.outputs)}\n",
    "\n",
    "def dog_loss(outputs, targets):\n",
    "    return torch.dist(outputs['dog'], targets['dog'])\n",
    "\n",
    "def dog_metrics(model, inputs, targets):\n",
    "    outputs = model(inputs)\n",
    "    return {\n",
    "        'accuracy': (torch.round(outputs['dog']) == targets['dog']).to(torch.int).sum()\n",
    "    }\n",
    "\n",
    "def experiment(model_class, outputs:list, train, test, loss, metrics, max_epochs=10, max_minutes=5, lr=0.0001):\n",
    "    device = torch.device('cuda:0' if torch.cuda.is_available() else 'cpu')\n",
    "    print(device)\n",
    "\n",
    "    num_outputs = len(train[0][1])\n",
    "    model = model_class(outputs=outputs).to(device)\n",
    "    dataloader = torch.utils.data.DataLoader(train, batch_size=64, shuffle=True)\n",
    "    dataloader_test = torch.utils.data.DataLoader(test, batch_size=64, shuffle=False)\n",
    "    opt = torch.optim.Adam(model.parameters(), lr=lr)\n",
    "    start_time = time.monotonic()\n",
    "    for epoch in range(max_epochs):\n",
    "        running_loss = torch.zeros(()).to(device)\n",
    "        running_n = 0\n",
    "        for X,targets in dataloader:\n",
    "            X = X.to(device)\n",
    "            targets = {field:y.to(device) for field,y in targets.items()}\n",
    "            opt.zero_grad()\n",
    "            outputs = model(X)\n",
    "            loss_value = loss(outputs, targets)\n",
    "            loss_value.backward()\n",
    "            opt.step()\n",
    "            running_loss += loss_value.detach()\n",
    "            running_n += X.shape[0]\n",
    "        print('Epoch', epoch, '   Loss', running_loss.item())\n",
    "        \n",
    "        with torch.no_grad():\n",
    "            metric_sums = None\n",
    "            count = 0\n",
    "            for X,targets in dataloader_test:\n",
    "                X = X.to(device)\n",
    "                targets = {field:y.to(device) for field,y in targets.items()}\n",
    "                metric_dict = metrics(model, X, targets)\n",
    "                if metric_sums == None:\n",
    "                    metric_sums = metric_dict\n",
    "                else:\n",
    "                    for k,v in metric_dict.items():\n",
    "                        metric_sums[k] += v\n",
    "                count += X.shape[0]\n",
    "            string = ''\n",
    "            for k,v in metric_sums.items():\n",
    "                print('   ', k, v.item() / count)\n",
    "        if time.monotonic() - start_time > max_minutes * 60:\n",
    "            print(\"Run out of time!\")\n",
    "            break\n",
    "    print('Time taken', time.monotonic() - start_time, ' seconds')\n",
    "    \n",
    "experiment(\n",
    "    Model,\n",
    "    outputs=['dog'],\n",
    "    train=Data('train', n=10000, filters=['cat','dog']),\n",
    "    test=Data('test', n=2000, filters=['cat','dog']),\n",
    "    loss=dog_loss,\n",
    "    metrics=dog_metrics,\n",
    ")\n"
   ]
  },
  {
   "cell_type": "code",
   "execution_count": null,
   "id": "9bc90f19",
   "metadata": {},
   "outputs": [],
   "source": []
  }
 ],
 "metadata": {
  "kernelspec": {
   "display_name": "Python 3 (ipykernel)",
   "language": "python",
   "name": "python3"
  },
  "language_info": {
   "codemirror_mode": {
    "name": "ipython",
    "version": 3
   },
   "file_extension": ".py",
   "mimetype": "text/x-python",
   "name": "python",
   "nbconvert_exporter": "python",
   "pygments_lexer": "ipython3",
   "version": "3.10.8"
  }
 },
 "nbformat": 4,
 "nbformat_minor": 5
}
